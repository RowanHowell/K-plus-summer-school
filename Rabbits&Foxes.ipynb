{
 "cells": [
  {
   "cell_type": "code",
   "execution_count": null,
   "metadata": {},
   "outputs": [],
   "source": [
    "First, load packages."
   ]
  },
  {
   "cell_type": "code",
   "execution_count": 1,
   "metadata": {},
   "outputs": [],
   "source": [
    "import scipy.integrate as sp\n",
    "import matplotlib.pyplot as plt\n",
    "import numpy as np\n",
    "import ipywidgets as wid"
   ]
  },
  {
   "cell_type": "markdown",
   "metadata": {},
   "source": [
    "Next, we define a function that expresses our ode system. This function will take in a value of x and y and calculate the rates of change at this point (dx/dt and dy/dt). This function has to take the current value (z=(x,y)) the time point (t) and the parameters of the ode in order for the ode solver to work properly. "
   ]
  },
  {
   "cell_type": "code",
   "execution_count": 19,
   "metadata": {},
   "outputs": [],
   "source": [
    "def ode(z,t,p):\n",
    "    x, y = z\n",
    "    a, b, c, d = p\n",
    "    f = [a*x - b*x*y, c*x*y - d*y]\n",
    "    return(f)"
   ]
  },
  {
   "cell_type": "markdown",
   "metadata": {},
   "source": [
    "Next, we define the parameters of the odes. Mathematically these can be anything, but think about what values <=0 mean biologically. "
   ]
  },
  {
   "cell_type": "code",
   "execution_count": 3,
   "metadata": {},
   "outputs": [],
   "source": [
    "a = 1\n",
    "b = 1\n",
    "c = 1\n",
    "d = 1"
   ]
  },
  {
   "cell_type": "markdown",
   "metadata": {},
   "source": [
    "Here, we define the initial conditions (starting values of x and y). "
   ]
  },
  {
   "cell_type": "code",
   "execution_count": 4,
   "metadata": {},
   "outputs": [],
   "source": [
    "x0 = 0.5\n",
    "y0 = 0.5"
   ]
  },
  {
   "cell_type": "code",
   "execution_count": 9,
   "metadata": {},
   "outputs": [],
   "source": [
    "p = [a,b,c,d]\n",
    "z0 = [x0,y0]"
   ]
  },
  {
   "cell_type": "markdown",
   "metadata": {},
   "source": [
    "Now we define a function that will plot the solution to the ODE for given initial conditions (Z0) and parameters (P). It will calculate forward T timepoints, which corresponds to 0.1 * T time units. "
   ]
  },
  {
   "cell_type": "code",
   "execution_count": 60,
   "metadata": {},
   "outputs": [],
   "source": [
    "def odeplot(Z0,T,P):\n",
    "    t = [0.1*i for i in range(0,T)]\n",
    "    wsol = sp.odeint(ode, Z0, t, args=(p,),atol=1.0e-8, rtol=1.0e-6)\n",
    "    plt.plot(wsol[:,0],wsol[:,1], 'k')\n",
    "    plt.ylim(0,3)\n",
    "    plt.xlim(0,3)\n",
    "    plt.xlabel('x')\n",
    "    plt.ylabel('y')\n",
    "    plt.show()"
   ]
  },
  {
   "cell_type": "markdown",
   "metadata": {},
   "source": [
    "Next we create a widget that will allow us to see the evolution of the system as time moves forward. The slider here controls the final time point calculated. Try moving the slider forward gradually and try to predict how the system will change. "
   ]
  },
  {
   "cell_type": "code",
   "execution_count": 61,
   "metadata": {},
   "outputs": [
    {
     "data": {
      "application/vnd.jupyter.widget-view+json": {
       "model_id": "b064d2f93f994fa48ee990609c1a1d72",
       "version_major": 2,
       "version_minor": 0
      },
      "text/html": [
       "<p>Failed to display Jupyter Widget of type <code>interactive</code>.</p>\n",
       "<p>\n",
       "  If you're reading this message in the Jupyter Notebook or JupyterLab Notebook, it may mean\n",
       "  that the widgets JavaScript is still loading. If this message persists, it\n",
       "  likely means that the widgets JavaScript library is either not installed or\n",
       "  not enabled. See the <a href=\"https://ipywidgets.readthedocs.io/en/stable/user_install.html\">Jupyter\n",
       "  Widgets Documentation</a> for setup instructions.\n",
       "</p>\n",
       "<p>\n",
       "  If you're reading this message in another frontend (for example, a static\n",
       "  rendering on GitHub or <a href=\"https://nbviewer.jupyter.org/\">NBViewer</a>),\n",
       "  it may mean that your frontend doesn't currently support widgets.\n",
       "</p>\n"
      ],
      "text/plain": [
       "interactive(children=(IntSlider(value=0, continuous_update=False, description='T'), Output()), _dom_classes=('widget-interact',))"
      ]
     },
     "metadata": {},
     "output_type": "display_data"
    }
   ],
   "source": [
    "wid.interact(odeplot, T = wid.IntSlider(min=0,max=100,continuous_update=False),Z0 = wid.fixed(z0), P = wid.fixed(p));"
   ]
  },
  {
   "cell_type": "markdown",
   "metadata": {},
   "source": [
    "Now we will try varying the parameters a,b,c,d while keeping the final timepoint fixed at 100. "
   ]
  },
  {
   "cell_type": "code",
   "execution_count": 73,
   "metadata": {},
   "outputs": [],
   "source": [
    "def odeplot2(Z0,T,a,b,c,d):\n",
    "    t = [0.1*i for i in range(0,T)]\n",
    "    p = [a,b,c,d]\n",
    "    wsol = sp.odeint(ode, Z0, t, args=(p,),atol=1.0e-8, rtol=1.0e-6)\n",
    "    plt.plot(wsol[:,0],wsol[:,1], 'k')\n",
    "    plt.ylim(0,5)\n",
    "    plt.xlim(0,5)\n",
    "    plt.xlabel('x')\n",
    "    plt.ylabel('y')\n",
    "    plt.show()"
   ]
  },
  {
   "cell_type": "code",
   "execution_count": 79,
   "metadata": {},
   "outputs": [
    {
     "data": {
      "application/vnd.jupyter.widget-view+json": {
       "model_id": "4fd67ca344664077a7994bda1df64f5f",
       "version_major": 2,
       "version_minor": 0
      },
      "text/html": [
       "<p>Failed to display Jupyter Widget of type <code>interactive</code>.</p>\n",
       "<p>\n",
       "  If you're reading this message in the Jupyter Notebook or JupyterLab Notebook, it may mean\n",
       "  that the widgets JavaScript is still loading. If this message persists, it\n",
       "  likely means that the widgets JavaScript library is either not installed or\n",
       "  not enabled. See the <a href=\"https://ipywidgets.readthedocs.io/en/stable/user_install.html\">Jupyter\n",
       "  Widgets Documentation</a> for setup instructions.\n",
       "</p>\n",
       "<p>\n",
       "  If you're reading this message in another frontend (for example, a static\n",
       "  rendering on GitHub or <a href=\"https://nbviewer.jupyter.org/\">NBViewer</a>),\n",
       "  it may mean that your frontend doesn't currently support widgets.\n",
       "</p>\n"
      ],
      "text/plain": [
       "interactive(children=(FloatSlider(value=1.0, continuous_update=False, description='a', max=3.0), FloatSlider(value=1.0, continuous_update=False, description='b', max=3.0), FloatSlider(value=1.0, continuous_update=False, description='c', max=3.0), FloatSlider(value=1.0, continuous_update=False, description='d', max=3.0), Output()), _dom_classes=('widget-interact',))"
      ]
     },
     "metadata": {},
     "output_type": "display_data"
    }
   ],
   "source": [
    "wid.interact(odeplot2, T = wid.fixed(100),Z0 = wid.fixed(z0), a = wid.FloatSlider(min = 0,max = 3,step = 0.1,value = 1,continuous_update=False),b = wid.FloatSlider(min = 0,max = 3,step = 0.1,value = 1,continuous_update=False),c = wid.FloatSlider(min = 0,max = 3,step = 0.1,value = 1,continuous_update=False),d = wid.FloatSlider(min = 0,max = 3,step = 0.1,value = 1,continuous_update=False));"
   ]
  },
  {
   "cell_type": "markdown",
   "metadata": {},
   "source": [
    "Now we will look take another view of the same data. In the next plot, we will plot how x and y change over time and experiment with changing a,b,c,d. "
   ]
  },
  {
   "cell_type": "code",
   "execution_count": 80,
   "metadata": {},
   "outputs": [],
   "source": [
    "def odeplot3(Z0,T,a,b,c,d):\n",
    "    t = [0.1*i for i in range(0,T)]\n",
    "    p = [a,b,c,d]\n",
    "    wsol = sp.odeint(ode, Z0, t, args=(p,),atol=1.0e-8, rtol=1.0e-6)\n",
    "    plt.plot(t,wsol)\n",
    "    plt.ylim(0,10)\n",
    "    plt.xlabel('t')\n",
    "    plt.legend(['x(t)','y(t)'], loc='upper right')\n",
    "    plt.show()"
   ]
  },
  {
   "cell_type": "code",
   "execution_count": 81,
   "metadata": {},
   "outputs": [
    {
     "data": {
      "application/vnd.jupyter.widget-view+json": {
       "model_id": "d7d4c8246457487bb203a5aad25b4573",
       "version_major": 2,
       "version_minor": 0
      },
      "text/html": [
       "<p>Failed to display Jupyter Widget of type <code>interactive</code>.</p>\n",
       "<p>\n",
       "  If you're reading this message in the Jupyter Notebook or JupyterLab Notebook, it may mean\n",
       "  that the widgets JavaScript is still loading. If this message persists, it\n",
       "  likely means that the widgets JavaScript library is either not installed or\n",
       "  not enabled. See the <a href=\"https://ipywidgets.readthedocs.io/en/stable/user_install.html\">Jupyter\n",
       "  Widgets Documentation</a> for setup instructions.\n",
       "</p>\n",
       "<p>\n",
       "  If you're reading this message in another frontend (for example, a static\n",
       "  rendering on GitHub or <a href=\"https://nbviewer.jupyter.org/\">NBViewer</a>),\n",
       "  it may mean that your frontend doesn't currently support widgets.\n",
       "</p>\n"
      ],
      "text/plain": [
       "interactive(children=(FloatSlider(value=1.0, continuous_update=False, description='a', max=3.0), FloatSlider(value=1.0, continuous_update=False, description='b', max=3.0), FloatSlider(value=1.0, continuous_update=False, description='c', max=3.0), FloatSlider(value=1.0, continuous_update=False, description='d', max=3.0), Output()), _dom_classes=('widget-interact',))"
      ]
     },
     "metadata": {},
     "output_type": "display_data"
    }
   ],
   "source": [
    "wid.interact(odeplot3, T = wid.fixed(100),Z0 = wid.fixed(z0), a = wid.FloatSlider(min = 0,max = 3,step = 0.1,value = 1,continuous_update=False),b = wid.FloatSlider(min = 0,max = 3,step = 0.1,value = 1,continuous_update=False),c = wid.FloatSlider(min = 0,max = 3,step = 0.1,value = 1,continuous_update=False),d = wid.FloatSlider(min = 0,max = 3,step = 0.1,value = 1,continuous_update=False));"
   ]
  },
  {
   "cell_type": "code",
   "execution_count": null,
   "metadata": {},
   "outputs": [],
   "source": []
  }
 ],
 "metadata": {
  "kernelspec": {
   "display_name": "Python 3",
   "language": "python",
   "name": "python3"
  },
  "language_info": {
   "codemirror_mode": {
    "name": "ipython",
    "version": 3
   },
   "file_extension": ".py",
   "mimetype": "text/x-python",
   "name": "python",
   "nbconvert_exporter": "python",
   "pygments_lexer": "ipython3",
   "version": "3.6.4"
  }
 },
 "nbformat": 4,
 "nbformat_minor": 2
}
